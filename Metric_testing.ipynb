{
 "cells": [
  {
   "cell_type": "code",
   "execution_count": 1,
   "metadata": {},
   "outputs": [
    {
     "name": "stderr",
     "output_type": "stream",
     "text": [
      "c:\\Users\\DELL\\AppData\\Local\\Programs\\Python\\Python310\\lib\\site-packages\\tqdm\\auto.py:21: TqdmWarning: IProgress not found. Please update jupyter and ipywidgets. See https://ipywidgets.readthedocs.io/en/stable/user_install.html\n",
      "  from .autonotebook import tqdm as notebook_tqdm\n"
     ]
    }
   ],
   "source": [
    "from datasets import load_dataset\n",
    "dataset = load_dataset(\"rajpurkar/squad\")\n",
    "    # dataset = load_dataset(\"quac\")\n",
    "\n",
    "    # train and validation\n",
    "train = dataset['train']\n",
    "validation = dataset['validation']"
   ]
  },
  {
   "cell_type": "code",
   "execution_count": 2,
   "metadata": {},
   "outputs": [
    {
     "name": "stderr",
     "output_type": "stream",
     "text": [
      "  9%|▉         | 7949/87599 [00:00<00:07, 10050.55it/s]"
     ]
    },
    {
     "name": "stdout",
     "output_type": "stream",
     "text": [
      "Debug\n",
      "Accuracy of who: 0.0\n",
      "Correct: 0, out of 900\n",
      "Debug\n"
     ]
    },
    {
     "name": "stderr",
     "output_type": "stream",
     "text": [
      " 10%|█         | 8946/87599 [00:39<18:10, 72.09it/s]   "
     ]
    },
    {
     "name": "stdout",
     "output_type": "stream",
     "text": [
      "Accuracy of who: 0.9\n",
      "Correct: 9, out of 1000\n"
     ]
    },
    {
     "name": "stderr",
     "output_type": "stream",
     "text": [
      " 12%|█▏        | 10177/87599 [01:16<24:41, 52.25it/s]"
     ]
    },
    {
     "name": "stdout",
     "output_type": "stream",
     "text": [
      "Accuracy of who: 1.8181818181818181\n",
      "Correct: 20, out of 1100\n"
     ]
    },
    {
     "name": "stderr",
     "output_type": "stream",
     "text": [
      " 13%|█▎        | 10972/87599 [01:34<15:42, 81.27it/s]  "
     ]
    },
    {
     "name": "stdout",
     "output_type": "stream",
     "text": [
      "Accuracy of who: 2.4166666666666665\n",
      "Correct: 29, out of 1200\n"
     ]
    },
    {
     "name": "stderr",
     "output_type": "stream",
     "text": [
      " 14%|█▍        | 12612/87599 [02:24<09:51, 126.74it/s] "
     ]
    },
    {
     "name": "stdout",
     "output_type": "stream",
     "text": [
      "Accuracy of who: 2.230769230769231\n",
      "Correct: 29, out of 1300\n"
     ]
    },
    {
     "name": "stderr",
     "output_type": "stream",
     "text": [
      " 15%|█▌        | 13539/87599 [03:04<2:02:13, 10.10it/s]"
     ]
    },
    {
     "name": "stdout",
     "output_type": "stream",
     "text": [
      "Accuracy of who: 2.5\n",
      "Correct: 35, out of 1400\n"
     ]
    },
    {
     "name": "stderr",
     "output_type": "stream",
     "text": [
      " 17%|█▋        | 14455/87599 [03:32<36:40, 33.25it/s]  "
     ]
    },
    {
     "name": "stdout",
     "output_type": "stream",
     "text": [
      "Accuracy of who: 2.8\n",
      "Correct: 42, out of 1500\n"
     ]
    },
    {
     "name": "stderr",
     "output_type": "stream",
     "text": [
      " 19%|█▊        | 16287/87599 [03:54<17:18, 68.68it/s] "
     ]
    },
    {
     "name": "stdout",
     "output_type": "stream",
     "text": [
      "Accuracy of who: 3.0625\n",
      "Correct: 49, out of 1600\n"
     ]
    },
    {
     "name": "stderr",
     "output_type": "stream",
     "text": [
      " 20%|█▉        | 17156/87599 [04:11<03:53, 301.93it/s] "
     ]
    },
    {
     "name": "stdout",
     "output_type": "stream",
     "text": [
      "Accuracy of who: 3.1176470588235294\n",
      "Correct: 53, out of 1700\n"
     ]
    },
    {
     "name": "stderr",
     "output_type": "stream",
     "text": [
      " 21%|██▏       | 18718/87599 [05:03<37:06, 30.94it/s]  "
     ]
    },
    {
     "name": "stdout",
     "output_type": "stream",
     "text": [
      "Accuracy of who: 3.1666666666666665\n",
      "Correct: 57, out of 1800\n"
     ]
    },
    {
     "name": "stderr",
     "output_type": "stream",
     "text": [
      " 23%|██▎       | 19792/87599 [05:25<39:00, 28.98it/s]  "
     ]
    },
    {
     "name": "stdout",
     "output_type": "stream",
     "text": [
      "Accuracy of who: 3.6842105263157894\n",
      "Correct: 70, out of 1900\n"
     ]
    },
    {
     "name": "stderr",
     "output_type": "stream",
     "text": [
      " 24%|██▎       | 20622/87599 [05:45<17:02, 65.49it/s]  "
     ]
    },
    {
     "name": "stdout",
     "output_type": "stream",
     "text": [
      "Accuracy of who: 4.2\n",
      "Correct: 84, out of 2000\n"
     ]
    },
    {
     "name": "stderr",
     "output_type": "stream",
     "text": [
      " 25%|██▌       | 22036/87599 [06:04<28:47, 37.96it/s] "
     ]
    },
    {
     "name": "stdout",
     "output_type": "stream",
     "text": [
      "Accuracy of who: 4.714285714285714\n",
      "Correct: 99, out of 2100\n"
     ]
    },
    {
     "name": "stderr",
     "output_type": "stream",
     "text": [
      " 27%|██▋       | 23527/87599 [06:49<1:17:33, 13.77it/s]"
     ]
    },
    {
     "name": "stdout",
     "output_type": "stream",
     "text": [
      "Accuracy of who: 4.909090909090909\n",
      "Correct: 108, out of 2200\n"
     ]
    },
    {
     "name": "stderr",
     "output_type": "stream",
     "text": [
      " 28%|██▊       | 24371/87599 [07:25<43:42, 24.11it/s]  "
     ]
    },
    {
     "name": "stdout",
     "output_type": "stream",
     "text": [
      "Accuracy of who: 5.0\n",
      "Correct: 115, out of 2300\n"
     ]
    },
    {
     "name": "stderr",
     "output_type": "stream",
     "text": [
      " 29%|██▉       | 25777/87599 [08:02<43:54, 23.46it/s]  "
     ]
    },
    {
     "name": "stdout",
     "output_type": "stream",
     "text": [
      "Accuracy of who: 5.125\n",
      "Correct: 123, out of 2400\n"
     ]
    },
    {
     "name": "stderr",
     "output_type": "stream",
     "text": [
      " 31%|███       | 26896/87599 [08:33<19:19, 52.34it/s]  \n"
     ]
    },
    {
     "ename": "KeyboardInterrupt",
     "evalue": "",
     "output_type": "error",
     "traceback": [
      "\u001b[1;31m---------------------------------------------------------------------------\u001b[0m",
      "\u001b[1;31mKeyboardInterrupt\u001b[0m                         Traceback (most recent call last)",
      "Cell \u001b[1;32mIn[2], line 132\u001b[0m\n\u001b[0;32m    122\u001b[0m initialize \u001b[38;5;241m=\u001b[39m Main()\n\u001b[0;32m    124\u001b[0m \u001b[38;5;66;03m# dataset = load_dataset(\"rajpurkar/squad\")\u001b[39;00m\n\u001b[0;32m    125\u001b[0m \u001b[38;5;66;03m# # dataset = load_dataset(\"quac\")\u001b[39;00m\n\u001b[0;32m    126\u001b[0m \n\u001b[0;32m    127\u001b[0m \u001b[38;5;66;03m# # train and validation\u001b[39;00m\n\u001b[0;32m    128\u001b[0m \u001b[38;5;66;03m# train = dataset['train']\u001b[39;00m\n\u001b[0;32m    129\u001b[0m \u001b[38;5;66;03m# validation = dataset['validation']\u001b[39;00m\n\u001b[1;32m--> 132\u001b[0m \u001b[43mQuestionStartsWith_Accuracy\u001b[49m\u001b[43m(\u001b[49m\u001b[43minitialize\u001b[49m\u001b[43m,\u001b[49m\u001b[43m \u001b[49m\u001b[43mtrain\u001b[49m\u001b[43m,\u001b[49m\u001b[43m \u001b[49m\u001b[38;5;124;43m\"\u001b[39;49m\u001b[38;5;124;43mwho\u001b[39;49m\u001b[38;5;124;43m\"\u001b[39;49m\u001b[43m)\u001b[49m\n\u001b[0;32m    133\u001b[0m \u001b[38;5;66;03m# count = 0\u001b[39;00m\n\u001b[0;32m    134\u001b[0m \u001b[38;5;66;03m# titles = set()\u001b[39;00m\n\u001b[0;32m    135\u001b[0m \u001b[38;5;66;03m# max_context = 0\u001b[39;00m\n\u001b[1;32m   (...)\u001b[0m\n\u001b[0;32m    159\u001b[0m \u001b[38;5;66;03m# print(max_context)\u001b[39;00m\n\u001b[0;32m    160\u001b[0m \u001b[38;5;66;03m# print(max_contexts)\u001b[39;00m\n",
      "Cell \u001b[1;32mIn[2], line 90\u001b[0m, in \u001b[0;36mQuestionStartsWith_Accuracy\u001b[1;34m(initialize, dataset, startsWith)\u001b[0m\n\u001b[0;32m     87\u001b[0m \u001b[38;5;28;01mif\u001b[39;00m dataEntities:\n\u001b[0;32m     88\u001b[0m     initialize\u001b[38;5;241m.\u001b[39mexport\u001b[38;5;241m.\u001b[39mdumpdata(dataEntities[\u001b[38;5;241m0\u001b[39m])\n\u001b[1;32m---> 90\u001b[0m     outputAnswer \u001b[38;5;241m=\u001b[39m \u001b[43minitialize\u001b[49m\u001b[38;5;241;43m.\u001b[39;49m\u001b[43mqna\u001b[49m\u001b[38;5;241;43m.\u001b[39;49m\u001b[43mfindanswer\u001b[49m\u001b[43m(\u001b[49m\u001b[43mquestion\u001b[49m\u001b[38;5;241;43m.\u001b[39;49m\u001b[43mlower\u001b[49m\u001b[43m(\u001b[49m\u001b[43m)\u001b[49m\u001b[43m,\u001b[49m\u001b[43m \u001b[49m\u001b[43mnumberOfPairs\u001b[49m\u001b[43m)\u001b[49m\n\u001b[0;32m     91\u001b[0m     \u001b[38;5;28;01mif\u001b[39;00m outputAnswer \u001b[38;5;129;01min\u001b[39;00m answer \u001b[38;5;129;01mor\u001b[39;00m answer \u001b[38;5;129;01min\u001b[39;00m outputAnswer:\n\u001b[0;32m     92\u001b[0m         correct \u001b[38;5;241m+\u001b[39m\u001b[38;5;241m=\u001b[39m \u001b[38;5;241m1\u001b[39m\n",
      "File \u001b[1;32mc:\\Extra_D\\Ali_kolya\\Ali Year 4\\Projects & Assignments\\GP\\GP2\\Project\\KG_fla7een\\Knowledge-Graph-based-QnA\\kwQnA\\_qna.py:52\u001b[0m, in \u001b[0;36mQuestionAnswer.findanswer\u001b[1;34m(self, question, c)\u001b[0m\n\u001b[0;32m     50\u001b[0m \u001b[38;5;28;01mif\u001b[39;00m pair[\u001b[38;5;241m6\u001b[39m] \u001b[38;5;129;01min\u001b[39;00m (\u001b[38;5;124m'\u001b[39m\u001b[38;5;124mwho\u001b[39m\u001b[38;5;124m'\u001b[39m):\n\u001b[0;32m     51\u001b[0m     \u001b[38;5;28;01mfor\u001b[39;00m i \u001b[38;5;129;01min\u001b[39;00m loaded:\n\u001b[1;32m---> 52\u001b[0m         relationS \u001b[38;5;241m=\u001b[39m [relation \u001b[38;5;28;01mfor\u001b[39;00m relation \u001b[38;5;129;01min\u001b[39;00m \u001b[38;5;28;43mself\u001b[39;49m\u001b[38;5;241;43m.\u001b[39;49m\u001b[43mnlp\u001b[49m\u001b[43m(\u001b[49m\u001b[43mloaded\u001b[49m\u001b[43m[\u001b[49m\u001b[38;5;28;43mstr\u001b[39;49m\u001b[43m(\u001b[49m\u001b[43mi\u001b[49m\u001b[43m)\u001b[49m\u001b[43m]\u001b[49m\u001b[43m[\u001b[49m\u001b[38;5;124;43m\"\u001b[39;49m\u001b[38;5;124;43mrelation\u001b[39;49m\u001b[38;5;124;43m\"\u001b[39;49m\u001b[43m]\u001b[49m\u001b[43m)\u001b[49m]\n\u001b[0;32m     53\u001b[0m         \u001b[38;5;66;03m# relationSSS = \" \".join([relation.lemma_ for relation in self.nlp(loaded[str(i)][\"relation\"])])\u001b[39;00m\n\u001b[0;32m     54\u001b[0m         relationSSS \u001b[38;5;241m=\u001b[39m \u001b[38;5;124m\"\u001b[39m\u001b[38;5;124m \u001b[39m\u001b[38;5;124m\"\u001b[39m\u001b[38;5;241m.\u001b[39mjoin([i\u001b[38;5;241m.\u001b[39mlemma_ \u001b[38;5;28;01mfor\u001b[39;00m i \u001b[38;5;129;01min\u001b[39;00m relationS])\n",
      "File \u001b[1;32mc:\\Users\\DELL\\AppData\\Local\\Programs\\Python\\Python310\\lib\\site-packages\\spacy\\language.py:1049\u001b[0m, in \u001b[0;36mLanguage.__call__\u001b[1;34m(self, text, disable, component_cfg)\u001b[0m\n\u001b[0;32m   1047\u001b[0m     error_handler \u001b[38;5;241m=\u001b[39m proc\u001b[38;5;241m.\u001b[39mget_error_handler()\n\u001b[0;32m   1048\u001b[0m \u001b[38;5;28;01mtry\u001b[39;00m:\n\u001b[1;32m-> 1049\u001b[0m     doc \u001b[38;5;241m=\u001b[39m proc(doc, \u001b[38;5;241m*\u001b[39m\u001b[38;5;241m*\u001b[39mcomponent_cfg\u001b[38;5;241m.\u001b[39mget(name, {}))  \u001b[38;5;66;03m# type: ignore[call-arg]\u001b[39;00m\n\u001b[0;32m   1050\u001b[0m \u001b[38;5;28;01mexcept\u001b[39;00m \u001b[38;5;167;01mKeyError\u001b[39;00m \u001b[38;5;28;01mas\u001b[39;00m e:\n\u001b[0;32m   1051\u001b[0m     \u001b[38;5;66;03m# This typically happens if a component is not initialized\u001b[39;00m\n\u001b[0;32m   1052\u001b[0m     \u001b[38;5;28;01mraise\u001b[39;00m \u001b[38;5;167;01mValueError\u001b[39;00m(Errors\u001b[38;5;241m.\u001b[39mE109\u001b[38;5;241m.\u001b[39mformat(name\u001b[38;5;241m=\u001b[39mname)) \u001b[38;5;28;01mfrom\u001b[39;00m \u001b[38;5;21;01me\u001b[39;00m\n",
      "File \u001b[1;32mc:\\Users\\DELL\\AppData\\Local\\Programs\\Python\\Python310\\lib\\site-packages\\spacy\\pipeline\\trainable_pipe.pyx:52\u001b[0m, in \u001b[0;36mspacy.pipeline.trainable_pipe.TrainablePipe.__call__\u001b[1;34m()\u001b[0m\n",
      "File \u001b[1;32mc:\\Users\\DELL\\AppData\\Local\\Programs\\Python\\Python310\\lib\\site-packages\\spacy\\pipeline\\tok2vec.py:126\u001b[0m, in \u001b[0;36mTok2Vec.predict\u001b[1;34m(self, docs)\u001b[0m\n\u001b[0;32m    124\u001b[0m     width \u001b[38;5;241m=\u001b[39m \u001b[38;5;28mself\u001b[39m\u001b[38;5;241m.\u001b[39mmodel\u001b[38;5;241m.\u001b[39mget_dim(\u001b[38;5;124m\"\u001b[39m\u001b[38;5;124mnO\u001b[39m\u001b[38;5;124m\"\u001b[39m)\n\u001b[0;32m    125\u001b[0m     \u001b[38;5;28;01mreturn\u001b[39;00m [\u001b[38;5;28mself\u001b[39m\u001b[38;5;241m.\u001b[39mmodel\u001b[38;5;241m.\u001b[39mops\u001b[38;5;241m.\u001b[39malloc((\u001b[38;5;241m0\u001b[39m, width)) \u001b[38;5;28;01mfor\u001b[39;00m doc \u001b[38;5;129;01min\u001b[39;00m docs]\n\u001b[1;32m--> 126\u001b[0m tokvecs \u001b[38;5;241m=\u001b[39m \u001b[38;5;28;43mself\u001b[39;49m\u001b[38;5;241;43m.\u001b[39;49m\u001b[43mmodel\u001b[49m\u001b[38;5;241;43m.\u001b[39;49m\u001b[43mpredict\u001b[49m\u001b[43m(\u001b[49m\u001b[43mdocs\u001b[49m\u001b[43m)\u001b[49m\n\u001b[0;32m    127\u001b[0m \u001b[38;5;28;01mreturn\u001b[39;00m tokvecs\n",
      "File \u001b[1;32mc:\\Users\\DELL\\AppData\\Local\\Programs\\Python\\Python310\\lib\\site-packages\\thinc\\model.py:334\u001b[0m, in \u001b[0;36mModel.predict\u001b[1;34m(self, X)\u001b[0m\n\u001b[0;32m    330\u001b[0m \u001b[38;5;28;01mdef\u001b[39;00m \u001b[38;5;21mpredict\u001b[39m(\u001b[38;5;28mself\u001b[39m, X: InT) \u001b[38;5;241m-\u001b[39m\u001b[38;5;241m>\u001b[39m OutT:\n\u001b[0;32m    331\u001b[0m \u001b[38;5;250m    \u001b[39m\u001b[38;5;124;03m\"\"\"Call the model's `forward` function with `is_train=False`, and return\u001b[39;00m\n\u001b[0;32m    332\u001b[0m \u001b[38;5;124;03m    only the output, instead of the `(output, callback)` tuple.\u001b[39;00m\n\u001b[0;32m    333\u001b[0m \u001b[38;5;124;03m    \"\"\"\u001b[39;00m\n\u001b[1;32m--> 334\u001b[0m     \u001b[38;5;28;01mreturn\u001b[39;00m \u001b[38;5;28;43mself\u001b[39;49m\u001b[38;5;241;43m.\u001b[39;49m\u001b[43m_func\u001b[49m\u001b[43m(\u001b[49m\u001b[38;5;28;43mself\u001b[39;49m\u001b[43m,\u001b[49m\u001b[43m \u001b[49m\u001b[43mX\u001b[49m\u001b[43m,\u001b[49m\u001b[43m \u001b[49m\u001b[43mis_train\u001b[49m\u001b[38;5;241;43m=\u001b[39;49m\u001b[38;5;28;43;01mFalse\u001b[39;49;00m\u001b[43m)\u001b[49m[\u001b[38;5;241m0\u001b[39m]\n",
      "File \u001b[1;32mc:\\Users\\DELL\\AppData\\Local\\Programs\\Python\\Python310\\lib\\site-packages\\thinc\\layers\\chain.py:54\u001b[0m, in \u001b[0;36mforward\u001b[1;34m(model, X, is_train)\u001b[0m\n\u001b[0;32m     52\u001b[0m callbacks \u001b[38;5;241m=\u001b[39m []\n\u001b[0;32m     53\u001b[0m \u001b[38;5;28;01mfor\u001b[39;00m layer \u001b[38;5;129;01min\u001b[39;00m model\u001b[38;5;241m.\u001b[39mlayers:\n\u001b[1;32m---> 54\u001b[0m     Y, inc_layer_grad \u001b[38;5;241m=\u001b[39m \u001b[43mlayer\u001b[49m\u001b[43m(\u001b[49m\u001b[43mX\u001b[49m\u001b[43m,\u001b[49m\u001b[43m \u001b[49m\u001b[43mis_train\u001b[49m\u001b[38;5;241;43m=\u001b[39;49m\u001b[43mis_train\u001b[49m\u001b[43m)\u001b[49m\n\u001b[0;32m     55\u001b[0m     callbacks\u001b[38;5;241m.\u001b[39mappend(inc_layer_grad)\n\u001b[0;32m     56\u001b[0m     X \u001b[38;5;241m=\u001b[39m Y\n",
      "File \u001b[1;32mc:\\Users\\DELL\\AppData\\Local\\Programs\\Python\\Python310\\lib\\site-packages\\thinc\\model.py:310\u001b[0m, in \u001b[0;36mModel.__call__\u001b[1;34m(self, X, is_train)\u001b[0m\n\u001b[0;32m    307\u001b[0m \u001b[38;5;28;01mdef\u001b[39;00m \u001b[38;5;21m__call__\u001b[39m(\u001b[38;5;28mself\u001b[39m, X: InT, is_train: \u001b[38;5;28mbool\u001b[39m) \u001b[38;5;241m-\u001b[39m\u001b[38;5;241m>\u001b[39m Tuple[OutT, Callable]:\n\u001b[0;32m    308\u001b[0m \u001b[38;5;250m    \u001b[39m\u001b[38;5;124;03m\"\"\"Call the model's `forward` function, returning the output and a\u001b[39;00m\n\u001b[0;32m    309\u001b[0m \u001b[38;5;124;03m    callback to compute the gradients via backpropagation.\"\"\"\u001b[39;00m\n\u001b[1;32m--> 310\u001b[0m     \u001b[38;5;28;01mreturn\u001b[39;00m \u001b[38;5;28;43mself\u001b[39;49m\u001b[38;5;241;43m.\u001b[39;49m\u001b[43m_func\u001b[49m\u001b[43m(\u001b[49m\u001b[38;5;28;43mself\u001b[39;49m\u001b[43m,\u001b[49m\u001b[43m \u001b[49m\u001b[43mX\u001b[49m\u001b[43m,\u001b[49m\u001b[43m \u001b[49m\u001b[43mis_train\u001b[49m\u001b[38;5;241;43m=\u001b[39;49m\u001b[43mis_train\u001b[49m\u001b[43m)\u001b[49m\n",
      "File \u001b[1;32mc:\\Users\\DELL\\AppData\\Local\\Programs\\Python\\Python310\\lib\\site-packages\\thinc\\layers\\chain.py:54\u001b[0m, in \u001b[0;36mforward\u001b[1;34m(model, X, is_train)\u001b[0m\n\u001b[0;32m     52\u001b[0m callbacks \u001b[38;5;241m=\u001b[39m []\n\u001b[0;32m     53\u001b[0m \u001b[38;5;28;01mfor\u001b[39;00m layer \u001b[38;5;129;01min\u001b[39;00m model\u001b[38;5;241m.\u001b[39mlayers:\n\u001b[1;32m---> 54\u001b[0m     Y, inc_layer_grad \u001b[38;5;241m=\u001b[39m \u001b[43mlayer\u001b[49m\u001b[43m(\u001b[49m\u001b[43mX\u001b[49m\u001b[43m,\u001b[49m\u001b[43m \u001b[49m\u001b[43mis_train\u001b[49m\u001b[38;5;241;43m=\u001b[39;49m\u001b[43mis_train\u001b[49m\u001b[43m)\u001b[49m\n\u001b[0;32m     55\u001b[0m     callbacks\u001b[38;5;241m.\u001b[39mappend(inc_layer_grad)\n\u001b[0;32m     56\u001b[0m     X \u001b[38;5;241m=\u001b[39m Y\n",
      "File \u001b[1;32mc:\\Users\\DELL\\AppData\\Local\\Programs\\Python\\Python310\\lib\\site-packages\\thinc\\model.py:310\u001b[0m, in \u001b[0;36mModel.__call__\u001b[1;34m(self, X, is_train)\u001b[0m\n\u001b[0;32m    307\u001b[0m \u001b[38;5;28;01mdef\u001b[39;00m \u001b[38;5;21m__call__\u001b[39m(\u001b[38;5;28mself\u001b[39m, X: InT, is_train: \u001b[38;5;28mbool\u001b[39m) \u001b[38;5;241m-\u001b[39m\u001b[38;5;241m>\u001b[39m Tuple[OutT, Callable]:\n\u001b[0;32m    308\u001b[0m \u001b[38;5;250m    \u001b[39m\u001b[38;5;124;03m\"\"\"Call the model's `forward` function, returning the output and a\u001b[39;00m\n\u001b[0;32m    309\u001b[0m \u001b[38;5;124;03m    callback to compute the gradients via backpropagation.\"\"\"\u001b[39;00m\n\u001b[1;32m--> 310\u001b[0m     \u001b[38;5;28;01mreturn\u001b[39;00m \u001b[38;5;28;43mself\u001b[39;49m\u001b[38;5;241;43m.\u001b[39;49m\u001b[43m_func\u001b[49m\u001b[43m(\u001b[49m\u001b[38;5;28;43mself\u001b[39;49m\u001b[43m,\u001b[49m\u001b[43m \u001b[49m\u001b[43mX\u001b[49m\u001b[43m,\u001b[49m\u001b[43m \u001b[49m\u001b[43mis_train\u001b[49m\u001b[38;5;241;43m=\u001b[39;49m\u001b[43mis_train\u001b[49m\u001b[43m)\u001b[49m\n",
      "File \u001b[1;32mc:\\Users\\DELL\\AppData\\Local\\Programs\\Python\\Python310\\lib\\site-packages\\thinc\\layers\\with_array.py:36\u001b[0m, in \u001b[0;36mforward\u001b[1;34m(model, Xseq, is_train)\u001b[0m\n\u001b[0;32m     32\u001b[0m \u001b[38;5;28;01mdef\u001b[39;00m \u001b[38;5;21mforward\u001b[39m(\n\u001b[0;32m     33\u001b[0m     model: Model[SeqT, SeqT], Xseq: SeqT, is_train: \u001b[38;5;28mbool\u001b[39m\n\u001b[0;32m     34\u001b[0m ) \u001b[38;5;241m-\u001b[39m\u001b[38;5;241m>\u001b[39m Tuple[SeqT, Callable]:\n\u001b[0;32m     35\u001b[0m     \u001b[38;5;28;01mif\u001b[39;00m \u001b[38;5;28misinstance\u001b[39m(Xseq, Ragged):\n\u001b[1;32m---> 36\u001b[0m         \u001b[38;5;28;01mreturn\u001b[39;00m cast(Tuple[SeqT, Callable], \u001b[43m_ragged_forward\u001b[49m\u001b[43m(\u001b[49m\u001b[43mmodel\u001b[49m\u001b[43m,\u001b[49m\u001b[43m \u001b[49m\u001b[43mXseq\u001b[49m\u001b[43m,\u001b[49m\u001b[43m \u001b[49m\u001b[43mis_train\u001b[49m\u001b[43m)\u001b[49m)\n\u001b[0;32m     37\u001b[0m     \u001b[38;5;28;01melif\u001b[39;00m \u001b[38;5;28misinstance\u001b[39m(Xseq, Padded):\n\u001b[0;32m     38\u001b[0m         \u001b[38;5;28;01mreturn\u001b[39;00m cast(Tuple[SeqT, Callable], _padded_forward(model, Xseq, is_train))\n",
      "File \u001b[1;32mc:\\Users\\DELL\\AppData\\Local\\Programs\\Python\\Python310\\lib\\site-packages\\thinc\\layers\\with_array.py:91\u001b[0m, in \u001b[0;36m_ragged_forward\u001b[1;34m(model, Xr, is_train)\u001b[0m\n\u001b[0;32m     87\u001b[0m \u001b[38;5;28;01mdef\u001b[39;00m \u001b[38;5;21m_ragged_forward\u001b[39m(\n\u001b[0;32m     88\u001b[0m     model: Model[SeqT, SeqT], Xr: Ragged, is_train: \u001b[38;5;28mbool\u001b[39m\n\u001b[0;32m     89\u001b[0m ) \u001b[38;5;241m-\u001b[39m\u001b[38;5;241m>\u001b[39m Tuple[Ragged, Callable]:\n\u001b[0;32m     90\u001b[0m     layer: Model[ArrayXd, ArrayXd] \u001b[38;5;241m=\u001b[39m model\u001b[38;5;241m.\u001b[39mlayers[\u001b[38;5;241m0\u001b[39m]\n\u001b[1;32m---> 91\u001b[0m     Y, get_dX \u001b[38;5;241m=\u001b[39m \u001b[43mlayer\u001b[49m\u001b[43m(\u001b[49m\u001b[43mXr\u001b[49m\u001b[38;5;241;43m.\u001b[39;49m\u001b[43mdataXd\u001b[49m\u001b[43m,\u001b[49m\u001b[43m \u001b[49m\u001b[43mis_train\u001b[49m\u001b[43m)\u001b[49m\n\u001b[0;32m     93\u001b[0m     \u001b[38;5;28;01mdef\u001b[39;00m \u001b[38;5;21mbackprop\u001b[39m(dYr: Ragged) \u001b[38;5;241m-\u001b[39m\u001b[38;5;241m>\u001b[39m Ragged:\n\u001b[0;32m     94\u001b[0m         \u001b[38;5;28;01mreturn\u001b[39;00m Ragged(get_dX(dYr\u001b[38;5;241m.\u001b[39mdataXd), dYr\u001b[38;5;241m.\u001b[39mlengths)\n",
      "File \u001b[1;32mc:\\Users\\DELL\\AppData\\Local\\Programs\\Python\\Python310\\lib\\site-packages\\thinc\\model.py:310\u001b[0m, in \u001b[0;36mModel.__call__\u001b[1;34m(self, X, is_train)\u001b[0m\n\u001b[0;32m    307\u001b[0m \u001b[38;5;28;01mdef\u001b[39;00m \u001b[38;5;21m__call__\u001b[39m(\u001b[38;5;28mself\u001b[39m, X: InT, is_train: \u001b[38;5;28mbool\u001b[39m) \u001b[38;5;241m-\u001b[39m\u001b[38;5;241m>\u001b[39m Tuple[OutT, Callable]:\n\u001b[0;32m    308\u001b[0m \u001b[38;5;250m    \u001b[39m\u001b[38;5;124;03m\"\"\"Call the model's `forward` function, returning the output and a\u001b[39;00m\n\u001b[0;32m    309\u001b[0m \u001b[38;5;124;03m    callback to compute the gradients via backpropagation.\"\"\"\u001b[39;00m\n\u001b[1;32m--> 310\u001b[0m     \u001b[38;5;28;01mreturn\u001b[39;00m \u001b[38;5;28;43mself\u001b[39;49m\u001b[38;5;241;43m.\u001b[39;49m\u001b[43m_func\u001b[49m\u001b[43m(\u001b[49m\u001b[38;5;28;43mself\u001b[39;49m\u001b[43m,\u001b[49m\u001b[43m \u001b[49m\u001b[43mX\u001b[49m\u001b[43m,\u001b[49m\u001b[43m \u001b[49m\u001b[43mis_train\u001b[49m\u001b[38;5;241;43m=\u001b[39;49m\u001b[43mis_train\u001b[49m\u001b[43m)\u001b[49m\n",
      "File \u001b[1;32mc:\\Users\\DELL\\AppData\\Local\\Programs\\Python\\Python310\\lib\\site-packages\\thinc\\layers\\chain.py:54\u001b[0m, in \u001b[0;36mforward\u001b[1;34m(model, X, is_train)\u001b[0m\n\u001b[0;32m     52\u001b[0m callbacks \u001b[38;5;241m=\u001b[39m []\n\u001b[0;32m     53\u001b[0m \u001b[38;5;28;01mfor\u001b[39;00m layer \u001b[38;5;129;01min\u001b[39;00m model\u001b[38;5;241m.\u001b[39mlayers:\n\u001b[1;32m---> 54\u001b[0m     Y, inc_layer_grad \u001b[38;5;241m=\u001b[39m \u001b[43mlayer\u001b[49m\u001b[43m(\u001b[49m\u001b[43mX\u001b[49m\u001b[43m,\u001b[49m\u001b[43m \u001b[49m\u001b[43mis_train\u001b[49m\u001b[38;5;241;43m=\u001b[39;49m\u001b[43mis_train\u001b[49m\u001b[43m)\u001b[49m\n\u001b[0;32m     55\u001b[0m     callbacks\u001b[38;5;241m.\u001b[39mappend(inc_layer_grad)\n\u001b[0;32m     56\u001b[0m     X \u001b[38;5;241m=\u001b[39m Y\n",
      "File \u001b[1;32mc:\\Users\\DELL\\AppData\\Local\\Programs\\Python\\Python310\\lib\\site-packages\\thinc\\model.py:310\u001b[0m, in \u001b[0;36mModel.__call__\u001b[1;34m(self, X, is_train)\u001b[0m\n\u001b[0;32m    307\u001b[0m \u001b[38;5;28;01mdef\u001b[39;00m \u001b[38;5;21m__call__\u001b[39m(\u001b[38;5;28mself\u001b[39m, X: InT, is_train: \u001b[38;5;28mbool\u001b[39m) \u001b[38;5;241m-\u001b[39m\u001b[38;5;241m>\u001b[39m Tuple[OutT, Callable]:\n\u001b[0;32m    308\u001b[0m \u001b[38;5;250m    \u001b[39m\u001b[38;5;124;03m\"\"\"Call the model's `forward` function, returning the output and a\u001b[39;00m\n\u001b[0;32m    309\u001b[0m \u001b[38;5;124;03m    callback to compute the gradients via backpropagation.\"\"\"\u001b[39;00m\n\u001b[1;32m--> 310\u001b[0m     \u001b[38;5;28;01mreturn\u001b[39;00m \u001b[38;5;28;43mself\u001b[39;49m\u001b[38;5;241;43m.\u001b[39;49m\u001b[43m_func\u001b[49m\u001b[43m(\u001b[49m\u001b[38;5;28;43mself\u001b[39;49m\u001b[43m,\u001b[49m\u001b[43m \u001b[49m\u001b[43mX\u001b[49m\u001b[43m,\u001b[49m\u001b[43m \u001b[49m\u001b[43mis_train\u001b[49m\u001b[38;5;241;43m=\u001b[39;49m\u001b[43mis_train\u001b[49m\u001b[43m)\u001b[49m\n",
      "File \u001b[1;32mc:\\Users\\DELL\\AppData\\Local\\Programs\\Python\\Python310\\lib\\site-packages\\thinc\\layers\\chain.py:54\u001b[0m, in \u001b[0;36mforward\u001b[1;34m(model, X, is_train)\u001b[0m\n\u001b[0;32m     52\u001b[0m callbacks \u001b[38;5;241m=\u001b[39m []\n\u001b[0;32m     53\u001b[0m \u001b[38;5;28;01mfor\u001b[39;00m layer \u001b[38;5;129;01min\u001b[39;00m model\u001b[38;5;241m.\u001b[39mlayers:\n\u001b[1;32m---> 54\u001b[0m     Y, inc_layer_grad \u001b[38;5;241m=\u001b[39m \u001b[43mlayer\u001b[49m\u001b[43m(\u001b[49m\u001b[43mX\u001b[49m\u001b[43m,\u001b[49m\u001b[43m \u001b[49m\u001b[43mis_train\u001b[49m\u001b[38;5;241;43m=\u001b[39;49m\u001b[43mis_train\u001b[49m\u001b[43m)\u001b[49m\n\u001b[0;32m     55\u001b[0m     callbacks\u001b[38;5;241m.\u001b[39mappend(inc_layer_grad)\n\u001b[0;32m     56\u001b[0m     X \u001b[38;5;241m=\u001b[39m Y\n",
      "File \u001b[1;32mc:\\Users\\DELL\\AppData\\Local\\Programs\\Python\\Python310\\lib\\site-packages\\thinc\\model.py:310\u001b[0m, in \u001b[0;36mModel.__call__\u001b[1;34m(self, X, is_train)\u001b[0m\n\u001b[0;32m    307\u001b[0m \u001b[38;5;28;01mdef\u001b[39;00m \u001b[38;5;21m__call__\u001b[39m(\u001b[38;5;28mself\u001b[39m, X: InT, is_train: \u001b[38;5;28mbool\u001b[39m) \u001b[38;5;241m-\u001b[39m\u001b[38;5;241m>\u001b[39m Tuple[OutT, Callable]:\n\u001b[0;32m    308\u001b[0m \u001b[38;5;250m    \u001b[39m\u001b[38;5;124;03m\"\"\"Call the model's `forward` function, returning the output and a\u001b[39;00m\n\u001b[0;32m    309\u001b[0m \u001b[38;5;124;03m    callback to compute the gradients via backpropagation.\"\"\"\u001b[39;00m\n\u001b[1;32m--> 310\u001b[0m     \u001b[38;5;28;01mreturn\u001b[39;00m \u001b[38;5;28;43mself\u001b[39;49m\u001b[38;5;241;43m.\u001b[39;49m\u001b[43m_func\u001b[49m\u001b[43m(\u001b[49m\u001b[38;5;28;43mself\u001b[39;49m\u001b[43m,\u001b[49m\u001b[43m \u001b[49m\u001b[43mX\u001b[49m\u001b[43m,\u001b[49m\u001b[43m \u001b[49m\u001b[43mis_train\u001b[49m\u001b[38;5;241;43m=\u001b[39;49m\u001b[43mis_train\u001b[49m\u001b[43m)\u001b[49m\n",
      "File \u001b[1;32mc:\\Users\\DELL\\AppData\\Local\\Programs\\Python\\Python310\\lib\\site-packages\\thinc\\layers\\maxout.py:52\u001b[0m, in \u001b[0;36mforward\u001b[1;34m(model, X, is_train)\u001b[0m\n\u001b[0;32m     50\u001b[0m W \u001b[38;5;241m=\u001b[39m model\u001b[38;5;241m.\u001b[39mget_param(\u001b[38;5;124m\"\u001b[39m\u001b[38;5;124mW\u001b[39m\u001b[38;5;124m\"\u001b[39m)\n\u001b[0;32m     51\u001b[0m W \u001b[38;5;241m=\u001b[39m model\u001b[38;5;241m.\u001b[39mops\u001b[38;5;241m.\u001b[39mreshape2f(W, nO \u001b[38;5;241m*\u001b[39m nP, nI)\n\u001b[1;32m---> 52\u001b[0m Y \u001b[38;5;241m=\u001b[39m \u001b[43mmodel\u001b[49m\u001b[38;5;241;43m.\u001b[39;49m\u001b[43mops\u001b[49m\u001b[38;5;241;43m.\u001b[39;49m\u001b[43mgemm\u001b[49m\u001b[43m(\u001b[49m\u001b[43mX\u001b[49m\u001b[43m,\u001b[49m\u001b[43m \u001b[49m\u001b[43mW\u001b[49m\u001b[43m,\u001b[49m\u001b[43m \u001b[49m\u001b[43mtrans2\u001b[49m\u001b[38;5;241;43m=\u001b[39;49m\u001b[38;5;28;43;01mTrue\u001b[39;49;00m\u001b[43m)\u001b[49m\n\u001b[0;32m     53\u001b[0m Y \u001b[38;5;241m+\u001b[39m\u001b[38;5;241m=\u001b[39m model\u001b[38;5;241m.\u001b[39mops\u001b[38;5;241m.\u001b[39mreshape1f(b, nO \u001b[38;5;241m*\u001b[39m nP)\n\u001b[0;32m     54\u001b[0m Z \u001b[38;5;241m=\u001b[39m model\u001b[38;5;241m.\u001b[39mops\u001b[38;5;241m.\u001b[39mreshape3f(Y, Y\u001b[38;5;241m.\u001b[39mshape[\u001b[38;5;241m0\u001b[39m], nO, nP)\n",
      "\u001b[1;31mKeyboardInterrupt\u001b[0m: "
     ]
    }
   ],
   "source": [
    "import getopt\n",
    "import sys\n",
    "\n",
    "from kwQnA._exportPairs import exportToJSON\n",
    "from kwQnA._getentitypair import GetEntity\n",
    "from kwQnA._graph import GraphEnt\n",
    "from kwQnA._qna import QuestionAnswer\n",
    "\n",
    "import pandas as pd\n",
    "from datasets import load_dataset\n",
    "import json \n",
    "import regex as re\n",
    "from tqdm import tqdm\n",
    "\n",
    "\n",
    "\n",
    "\n",
    "\n",
    "\n",
    "class Main:\n",
    "    \"\"\"docstring for Main.\"\"\"\n",
    "\n",
    "    def __init__(self):\n",
    "        super(Main, self).__init__()\n",
    "        self.qna = QuestionAnswer()\n",
    "        self.getEntity = GetEntity()\n",
    "        self.export = exportToJSON()\n",
    "        self.graph = GraphEnt()\n",
    "\n",
    "    def main(self, argv):\n",
    "        inputfile = ''\n",
    "        inputQue = ''\n",
    "        try:\n",
    "            opts, args = getopt.getopt(argv, \"hi:q:g:s:\", [\"ifile=\", \"question=\",\"showGraph=\",\"showEntities=\"])\n",
    "            if opts == [] and args == []:\n",
    "                print(\"ERROR\")\n",
    "                print(\"Help:\")\n",
    "                print(\"python init.py -i <TextFileName> -q <Question> -s <show Ent>\")\n",
    "        except getopt.GetoptError as err:\n",
    "            sys.exit(2)\n",
    "\n",
    "        for opt, arg in opts:\n",
    "            showGraph , showEntities= \"f\", \"f\"\n",
    "            if opt == '-h':\n",
    "                print ('test.py -i <inputfile> -q <question> -g <y or n> -s <Show Entities>')\n",
    "                sys.exit()\n",
    "            elif opt in (\"-i\", \"--ifile\"):\n",
    "                inputfile = arg\n",
    "            elif opt in (\"-q\", \"--question\"):\n",
    "                inputQue = arg\n",
    "            elif opt in (\"-g\", \"--showGraph\"):\n",
    "                showGraph = arg\n",
    "            elif opt in (\"-s\", \"--showEntities\"):\n",
    "                showEntities = arg\n",
    "            else:\n",
    "                assert False, \"unhandled option\"\n",
    "\n",
    "        return inputfile, inputQue, showGraph, showEntities\n",
    "\n",
    "\n",
    "def QuestionStartsWith_Accuracy(initialize, dataset, startsWith):\n",
    "    # to lower\n",
    "    correct = 0\n",
    "    total = 0\n",
    "    for item in tqdm(dataset):\n",
    "        try:\n",
    "            context = item['context'].lower()\n",
    "            question = item['question'].lower()\n",
    "            question = question.replace(\"manys\", \"many\")\n",
    "            # re.sub(r'manys', 'many', question)\n",
    "            question = re.sub(' +', ' ', question)\n",
    "            answer = item['answers']['text'][0].lower()\n",
    "            title = item['title'].lower()\n",
    "            startsWith = startsWith.lower()\n",
    "            # check if question starts with startsWith\n",
    "            if question.startswith(startsWith):\n",
    "                total += 1\n",
    "                # if (total < 893):\n",
    "                #     continue\n",
    "                question = question.replace(\"news papers\", \"newspapers\")\n",
    "\n",
    "                # if (total in (893, 905)):\n",
    "                #     print(\"Debug\")\n",
    "                    \n",
    "                refined_text = initialize.getEntity.preprocess_context(context, title)\n",
    "                dataEntities, numberOfPairs = initialize.getEntity.get_entity(refined_text)\n",
    "                if dataEntities:\n",
    "                    initialize.export.dumpdata(dataEntities[0])\n",
    "\n",
    "                    outputAnswer = initialize.qna.findanswer(question.lower(), numberOfPairs)\n",
    "                    if outputAnswer in answer or answer in outputAnswer:\n",
    "                        correct += 1\n",
    "\n",
    "                    # else:\n",
    "                    #     print(\"Wrong:\", total)\n",
    "                    #     print(\"Question: \", question)\n",
    "                    #     print(\"Answer: \", answer)\n",
    "                    #     print(\"Output: \", outputAnswer)\n",
    "                    #     print(\"\\n\\n\")\n",
    "\n",
    "                \n",
    "                if total % 100 == 0:\n",
    "                    print(f\"Accuracy of {startsWith}: {100*correct/total}\")\n",
    "                    print(f\"Correct: {correct}, out of {total}\")\n",
    "                # else:\n",
    "                #     print(\"Not Applicable - mfeesh entities\")\n",
    "        except Exception as e:\n",
    "            print(\"title: \", title)\n",
    "            print(\"Error in question number: \", total)\n",
    "            print(\"Question: \", question)\n",
    "            print(\"Error: \", e)\n",
    "            # total -= 1\n",
    "            print(\"\\n\\n\")\n",
    "    if total != 0:\n",
    "        print(f\"Accuracy of {startsWith}: {100*correct/total}\")\n",
    "        print(f\"Correct: {correct}, out of {total}\")\n",
    "    else:\n",
    "        print(\"No Questions found with the given starting word\")\n",
    "\n",
    "\n",
    "if __name__ == \"__main__\":\n",
    "    initialize = Main()\n",
    "\n",
    "    # dataset = load_dataset(\"rajpurkar/squad\")\n",
    "    # # dataset = load_dataset(\"quac\")\n",
    "\n",
    "    # # train and validation\n",
    "    # train = dataset['train']\n",
    "    # validation = dataset['validation']\n",
    "\n",
    "\n",
    "    QuestionStartsWith_Accuracy(initialize, train, \"who\")\n",
    "    # count = 0\n",
    "    # titles = set()\n",
    "    # max_context = 0\n",
    "    # max_contexts = 0\n",
    "    # prev_title = \"\"\n",
    "    # for item in train:\n",
    "    #     if prev_title != item['title']:\n",
    "    #         context = item['context']\n",
    "    #     elif item['context'] not in context:\n",
    "    #         context += \" \" + item['context']\n",
    "    #     max_context = max(max_context, len(item['context']))\n",
    "    #     max_contexts = max(max_contexts, len(context))\n",
    "    #     if (max_contexts == 92637):\n",
    "    #         print(context)\n",
    "    #         break\n",
    "    #     prev_title = item['title']\n",
    "    #     titles.add(item['title'])\n",
    "    #     context = item['context'].lower()\n",
    "    #     question = item['question'].lower()\n",
    "    #     answer = item['answers']['text'][0].lower()\n",
    "    #     if (answer in context):\n",
    "    #         count += 1\n",
    "    # total = len(train)\n",
    "    # print(total)\n",
    "    # print(count)\n",
    "    # print(len(titles))\n",
    "    # print(max_context)\n",
    "    # print(max_contexts)\n",
    "\n"
   ]
  },
  {
   "cell_type": "code",
   "execution_count": null,
   "metadata": {},
   "outputs": [],
   "source": [
    "from datasets import load_dataset\n",
    "\n",
    "dataset = load_dataset(\"rajpurkar/squad\")\n",
    "# dataset = load_dataset(\"quac\")\n",
    "\n",
    "# train and validation\n",
    "train = dataset['train']\n",
    "validation = dataset['validation']\n",
    "\n",
    "# save them to csv\n",
    "# train.to_csv('dataset/train.csv')\n",
    "# validation.to_csv('dataset/validation.csv')\n"
   ]
  },
  {
   "cell_type": "code",
   "execution_count": null,
   "metadata": {},
   "outputs": [],
   "source": [
    "import json \n",
    "import regex as re\n",
    "import pandas as pd\n",
    "\n",
    "context_question_answer = []\n",
    "for item in train:\n",
    "    context = item['context']\n",
    "    question = item['question']\n",
    "    answers = item['answers']\n",
    "    # context_question_answer.append({'context':context, 'question':question, 'answers':answers})\n",
    "    \n",
    "    break"
   ]
  },
  {
   "cell_type": "code",
   "execution_count": null,
   "metadata": {},
   "outputs": [],
   "source": []
  },
  {
   "cell_type": "code",
   "execution_count": null,
   "metadata": {},
   "outputs": [],
   "source": [
    "def QuestionStartsWith_Accuracy(dataset, startsWith):\n",
    "    # to lower\n",
    "    for item in dataset:\n",
    "        context = item['context'].lower()\n",
    "        question = item['question'].lower()\n",
    "        answer = item['answer'].lower()\n",
    "        startsWith = startsWith.lower()\n",
    "        \n",
    "        # check if question starts with startsWith\n",
    "        if question.startswith(startsWith):\n",
    "            refined_text = initialize.getEntity.preprocess_conttext(input_file, inputQue)\n",
    "            dataEntities, numberOfPairs = initialize.getEntity.get_entity(refined_text)\n",
    "\n",
    "        "
   ]
  },
  {
   "cell_type": "code",
   "execution_count": null,
   "metadata": {},
   "outputs": [],
   "source": [
    "import json \n",
    "import regex as re\n",
    "import pandas as pd\n",
    "# load train and validation from csv\n",
    "train = pd.read_csv('dataset/train.csv')\n",
    "validation = pd.read_csv('dataset/validation.csv')"
   ]
  },
  {
   "cell_type": "code",
   "execution_count": null,
   "metadata": {},
   "outputs": [],
   "source": [
    "def FormatAnswer(answer):\n",
    "    print(answer)\n",
    "    answer = re.sub(r'array\\(\\[(\\d+)\\]\\)', r'[\\1]', answer)\n",
    "\n",
    "    answer = answer.replace(\"'texts'\", '\"texts\"')\n",
    "    answer = answer.replace(\"array([\", \"[\")\n",
    "    answer = answer.replace(\"\\\\'\", \"'\")\n",
    "    # remove unnecessary spaces with regex\n",
    "    answer = re.sub(r'\\s+', ' ', answer)\n",
    "    answer = answer.replace(\", dtype=object)\",\"\")\n",
    "\n",
    "    print(answer)\n",
    "    # '{\"texts\": [[\"Malayalam is the language spoken by the Malayalis.\"], [\"Malayalam is derived from old Tamil and Sanskrit in the 6th century.\"] , [\"Malayalam literature is ancient in origin. The oldest literature works in Malayalam, distinct from the Tamil tradition,\"] , [\"The oldest literature works in Malayalam, distinct from the Tamil tradition, is dated between the 9th century and 11th century. Malayalam literature includes the 14th century Niranam poets (\"] , [\"Madhava Panikkar, Sankara Panikkar and Rama Panikkar), whose works mark the dawn of both modern Malayalam language and indigenous Keralite poetry.\"] , [\"All his works are written between 1829 and 1870. Chavara\"s contribution to Malayalam literature includes, Chronicles, Poems - athmanuthapam (compunction of the soul),\"] , [\". In the second half of the 20th century, Jnanpith awardees like G. Sankara Kurup, S. K. Pottekkatt, Thakazhi Sivasankara Pillai and M. T. Vasudevan Nair and non Jnanpith\"] ], \"answer_starts\": [[0], [51], [478], [521], [711], [1283], [1580]]}'\n",
    "    answer = json.loads(answer)\n",
    "    return answer['texts'][0]\n",
    "\n",
    "def FormatQuestion(question):\n",
    "    question = question[1:-1].replace(\"?'\", \"?',\")      # adds comma after each question\n",
    "    question = question.replace(\"'\", \"\")                # remove single quotes\n",
    "    question = question.replace('\"', \"\")                # remove double quotes\n",
    "    question = question.replace(\"\\n\", \"\")               # remove new line\n",
    "\n",
    "    # parse question to list\n",
    "    questions = list(question.split(\",\"))\n",
    "    return questions[0]\n"
   ]
  },
  {
   "cell_type": "code",
   "execution_count": null,
   "metadata": {},
   "outputs": [],
   "source": [
    "# Make a csv containing the context, formatted question and formatted answer\n",
    "i = 0\n",
    "for item in train.iterrows():\n",
    "    if i == 1:\n",
    "        question = FormatQuestion(item[1]['questions'])\n",
    "        answer = FormatAnswer(item[1]['answers'])\n",
    "        context = item[1]['context']\n",
    "        print(\"Question: \", question)\n",
    "        print(\"Answer: \", answer)\n",
    "        print(\"Context: \", context)\n",
    "        print(\"\\n\")\n",
    "\n",
    "    i += 1\n",
    "    \n",
    "    \n"
   ]
  },
  {
   "cell_type": "code",
   "execution_count": null,
   "metadata": {},
   "outputs": [],
   "source": [
    "\n",
    "train.head()\n",
    "\n",
    "print(train['context'][0])\n",
    "print(train['questions'][0])\n",
    "question = train['questions'][0][1:-1].replace(\"?'\", \"?',\")\n",
    "print(question)\n",
    "question = question.replace(\"'\", \"\")        # remove single quotes\n",
    "question = question.replace('\"', \"\")        # remove double quotes\n",
    "question = question.replace(\"\\n\", \"\")       # remove new line\n",
    "\n",
    "# parse question to list\n",
    "quesitons = list(question.split(\",\"))\n",
    "print(quesitons)\n",
    "# transform train['questions'][0] to list\n",
    "# train['questions'] = train['questions'].apply(lambda x: json.loads(x))\n",
    "# print(train['questions'][0])\n",
    "\n",
    "answer = train['answers'][0]\n",
    "# Change array([51]) to [51] using regex, and remove the ) at the end of the string\n",
    "answer = re.sub(r'array\\(\\[(\\d+)\\]\\)', r'[\\1]', answer)\n",
    "\n",
    "answer = answer.replace(\"\\'\", \"\\\"\")\n",
    "answer = answer.replace(\"array([\", \"[\")\n",
    "# remove unnecessary spaces with regex\n",
    "answer = re.sub(r'\\s+', ' ', answer)\n",
    "answer = answer.replace(\", dtype=object)\",\"\")\n",
    "\n",
    "# print(answer)\n",
    "answer = json.loads(answer)\n",
    "print(answer)\n",
    "\n",
    "# print(answer['texts'][0])\n",
    "\n",
    "\n"
   ]
  },
  {
   "cell_type": "code",
   "execution_count": null,
   "metadata": {},
   "outputs": [],
   "source": []
  }
 ],
 "metadata": {
  "kernelspec": {
   "display_name": "Python 3",
   "language": "python",
   "name": "python3"
  },
  "language_info": {
   "codemirror_mode": {
    "name": "ipython",
    "version": 3
   },
   "file_extension": ".py",
   "mimetype": "text/x-python",
   "name": "python",
   "nbconvert_exporter": "python",
   "pygments_lexer": "ipython3",
   "version": "3.10.7"
  }
 },
 "nbformat": 4,
 "nbformat_minor": 2
}
